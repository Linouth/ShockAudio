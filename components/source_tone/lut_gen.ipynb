{
 "cells": [
  {
   "cell_type": "code",
   "execution_count": 1,
   "metadata": {},
   "outputs": [],
   "source": [
    "import numpy as np\n",
    "import matplotlib.pyplot as plt\n",
    "from IPython.display import Audio"
   ]
  },
  {
   "cell_type": "code",
   "execution_count": 2,
   "metadata": {},
   "outputs": [
    {
     "data": {
      "text/plain": [
       "[<matplotlib.lines.Line2D at 0x7f780adc74c0>,\n",
       " <matplotlib.lines.Line2D at 0x7f780adc75b0>]"
      ]
     },
     "execution_count": 2,
     "metadata": {},
     "output_type": "execute_result"
    },
    {
     "data": {
      "image/png": "[encoded data removed]",
      "text/plain": [
       "<Figure size 432x288 with 1 Axes>"
      ]
     },
     "metadata": {
      "needs_background": "light"
     },
     "output_type": "display_data"
    }
   ],
   "source": [
    "# Generate sine LUT with N samples\n",
    "N = 256\n",
    "\n",
    "t = np.linspace(0, 1, 256)\n",
    "x = np.arange(0, 1, 1/N)\n",
    "sin_lut = [np.sin(2*np.pi*t) for t in x]\n",
    "plt.plot(t, np.sin(2*np.pi*t), x, sin_lut, 'o')"
   ]
  },
  {
   "cell_type": "code",
   "execution_count": 3,
   "metadata": {},
   "outputs": [
    {
     "name": "stdout",
     "output_type": "stream",
     "text": [
      "   0,    3,    6,    9,   12,   15,   18,   21,   24,   27,   30,   33, \n",
      "  36,   39,   42,   45,   48,   51,   54,   57,   59,   62,   65,   67, \n",
      "  70,   73,   75,   78,   80,   82,   85,   87,   89,   91,   94,   96, \n",
      "  98,  100,  102,  103,  105,  107,  108,  110,  112,  113,  114,  116, \n",
      " 117,  118,  119,  120,  121,  122,  123,  123,  124,  125,  125,  126, \n",
      " 126,  126,  126,  126,  127,  126,  126,  126,  126,  126,  125,  125, \n",
      " 124,  123,  123,  122,  121,  120,  119,  118,  117,  116,  114,  113, \n",
      " 112,  110,  108,  107,  105,  103,  102,  100,   98,   96,   94,   91, \n",
      "  89,   87,   85,   82,   80,   78,   75,   73,   70,   67,   65,   62, \n",
      "  59,   57,   54,   51,   48,   45,   42,   39,   36,   33,   30,   27, \n",
      "  24,   21,   18,   15,   12,    9,    6,    3,    0,   -3,   -6,   -9, \n",
      " -12,  -15,  -18,  -21,  -24,  -27,  -30,  -33,  -36,  -39,  -42,  -45, \n",
      " -48,  -51,  -54,  -57,  -59,  -62,  -65,  -67,  -70,  -73,  -75,  -78, \n",
      " -80,  -82,  -85,  -87,  -89,  -91,  -94,  -96,  -98, -100, -102, -103, \n",
      "-105, -107, -108, -110, -112, -113, -114, -116, -117, -118, -119, -120, \n",
      "-121, -122, -123, -123, -124, -125, -125, -126, -126, -126, -126, -126, \n",
      "-127, -126, -126, -126, -126, -126, -125, -125, -124, -123, -123, -122, \n",
      "-121, -120, -119, -118, -117, -116, -114, -113, -112, -110, -108, -107, \n",
      "-105, -103, -102, -100,  -98,  -96,  -94,  -91,  -89,  -87,  -85,  -82, \n",
      " -80,  -78,  -75,  -73,  -70,  -67,  -65,  -62,  -59,  -57,  -54,  -51, \n",
      " -48,  -45,  -42,  -39,  -36,  -33,  -30,  -27,  -24,  -21,  -18,  -15, \n",
      " -12,   -9,   -6,   -3, \n"
     ]
    }
   ],
   "source": [
    "def print_buf(x, xlen):\n",
    "    row_len = 12\n",
    "    for i in range(0, xlen, row_len):\n",
    "        for j in range(0, row_len):\n",
    "            if (i+j) >= xlen:\n",
    "                break\n",
    "            print('{:4d}, '.format(int(x[i+j])), end='')\n",
    "        print()\n",
    "\n",
    "c_lut = np.array(sin_lut) * 127\n",
    "print_buf(c_lut, N)"
   ]
  },
  {
   "cell_type": "code",
   "execution_count": null,
   "metadata": {},
   "outputs": [],
   "source": [
    "# Generate sin wave using sin_lut\n",
    "\n",
    "Fs = 48000\n",
    "f = 440\n",
    "s = Fs//f\n",
    "\n",
    "m = s/N\n",
    "print(f's: {s}, m: {m}')\n",
    "\n",
    "out = [0] * int(s)\n",
    "ind = 0\n",
    "ratio = 0\n",
    "for i in range(0, s):\n",
    "    # Loop over each spot that needs to be filled\n",
    "    # NOTE: Only works for N > Fs//f\n",
    "    #       or m <= 1.0\n",
    "    out[i] = sin_lut[ind]\n",
    "    ratio = (i+1)/(ind+1)\n",
    "\n",
    "    if m <= 1:\n",
    "        if ratio < m:\n",
    "            ind += 1\n",
    "        else:\n",
    "            ind += int(np.ceil(1/m))\n",
    "    else:  # m > 1\n",
    "        if ratio < m:\n",
    "            ind += 0\n",
    "        else:\n",
    "            ind += 1\n",
    "\n",
    "\n",
    "pout = np.array(out) * 127\n",
    "# print_buf(pout, s)\n",
    "\n",
    "out = np.array(out)\n",
    "plt.plot(out);\n",
    "\n",
    "Audio(np.tile(out, 500), rate=Fs)"
   ]
  },
  {
   "cell_type": "code",
   "execution_count": null,
   "metadata": {},
   "outputs": [],
   "source": [
    "\n",
    "out[out>=0] = 1\n",
    "out[out<0] = -1\n",
    "plt.plot(out)\n",
    "\n",
    "Audio(np.tile(out, 500), rate=Fs)"
   ]
  }
 ],
 "metadata": {
  "kernelspec": {
   "display_name": "Python 3",
   "language": "python",
   "name": "python3"
  },
  "language_info": {
   "codemirror_mode": {
    "name": "ipython",
    "version": 3
   },
   "file_extension": ".py",
   "mimetype": "text/x-python",
   "name": "python",
   "nbconvert_exporter": "python",
   "pygments_lexer": "ipython3",
   "version": "3.8.2"
  }
 },
 "nbformat": 4,
 "nbformat_minor": 4
}
