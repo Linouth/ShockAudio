{
 "cells": [
  {
   "cell_type": "code",
   "execution_count": null,
   "metadata": {},
   "outputs": [],
   "source": [
    "import numpy as np\n",
    "from matplotlib import pyplot as plt"
   ]
  },
  {
   "cell_type": "code",
   "execution_count": null,
   "metadata": {},
   "outputs": [],
   "source": [
    "freq = 553\n",
    "samplerate = 44100\n",
    "\n",
    "t = np.linspace(0, 1, 44100)\n",
    "y = np.sin(2*np.pi*freq*t)\n",
    "\n",
    "plt.plot(t, y)\n",
    "plt.xlim(0, 0.1)"
   ]
  },
  {
   "cell_type": "code",
   "execution_count": null,
   "metadata": {},
   "outputs": [],
   "source": [
    "Y = [ int(i) for i in y[t<0.05]*(2**15-1) ]\n",
    "print(f\"int sine_size = {len(Y)};\")\n",
    "print(\"int16_t sine[] = {\")\n",
    "i = 1\n",
    "print(\"\\t\", end=\"\")\n",
    "for v in Y:\n",
    "    print(f\"{v}, \", end=\"\")\n",
    "    if i % 8 == 0:\n",
    "        print(\"\\n\\t\", end=\"\")\n",
    "    i+=1\n",
    "print(\"\\n};\")"
   ]
  },
  {
   "cell_type": "code",
   "execution_count": null,
   "metadata": {},
   "outputs": [],
   "source": []
  }
 ],
 "metadata": {
  "kernelspec": {
   "display_name": "Python 3",
   "language": "python",
   "name": "python3"
  },
  "language_info": {
   "codemirror_mode": {
    "name": "ipython",
    "version": 3
   },
   "file_extension": ".py",
   "mimetype": "text/x-python",
   "name": "python",
   "nbconvert_exporter": "python",
   "pygments_lexer": "ipython3",
   "version": "3.7.4"
  }
 },
 "nbformat": 4,
 "nbformat_minor": 4
}
